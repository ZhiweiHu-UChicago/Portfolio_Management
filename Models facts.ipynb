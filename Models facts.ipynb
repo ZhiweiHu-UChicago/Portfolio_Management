{
 "cells": [
  {
   "cell_type": "markdown",
   "metadata": {
    "collapsed": true,
    "pycharm": {
     "name": "#%% md\n"
    }
   },
   "source": [
    "#### Moving Average:\n",
    "* The MV model actually determines the weights of assets according to the co-variance, not merely the returns, the volatility\n",
    "nor the SR.\n",
    "* The MV Optimizer wants to fit the in-sample correlation so tightly that it will lead to extreme long-short positions given some assets.\n",
    "* In the analysis, we also did a long-short analysis between the domestic currency and foreign currency. Simply by increasing the returns\n",
    "of one of them, the allocation changes dramatically. The MV method is actually very **sensitive to the in-sample noise**.\n",
    "* HMC put ad-hoc constrains to ensure the allocation weights are not so extreme. In our case, we use the diagnosed covariance matrix.\n"
   ]
  },
  {
   "cell_type": "markdown",
   "source": [
    "#### CAPM or LFPM by DFA\n",
    "* bring alpha or beta? As long as the product could bring to investors some benefits, especially some unique, special benefits,\n",
    "it could be regarded as bringing the alpha. For Fama-French 3 factor models, they believe that the market returns also has something to do with\n",
    "the size and values, those 'betas' are actually the alpha provided to investors.\n",
    "**Providing beta efficiently is equal to providing alpha**\n",
    "\n",
    "* CAPM model suggest that all portfolio should have the identical Treynor Ratio(return to volatility, (R_p - R_f / beta_p) is the Treynor ratio )\n",
    "as any beta exposure should be compensated with the same market premium.\n",
    "* For the Sharpe Ratio, CAPM suggests that any asset's Sharpe ratio is proportional to its correlation to the market.\n",
    "$$SR^i = p^{i,m}SR^M$$\n",
    "\n",
    "* DFA is not making directional bets based on equity fundamentals, nor on macroeconomic analysis.\n",
    "Rather, DFA is largely relying on their top-down analysis via their\n",
    "**Linear Factor Moldel which says size-beta and value-beta are associated with premium in the long run**.\n",
    "\n",
    "* Why we prefer testing LFPM on portfolios instead of on individual assets?\n",
    "Because pricing tests are statistically very noisy. Individual securities have a lot of idiosyncratic risk, while we want to concentrate on systematic risk.\n",
    "And working with portfolios gives us less idiosyncratic risk and higher statistical power."
   ],
   "metadata": {
    "collapsed": false,
    "pycharm": {
     "name": "#%% md\n"
    }
   }
  },
  {
   "cell_type": "markdown",
   "source": [
    "#### The Cross-Sectional Test and Time-Series Test\n",
    "\n",
    "* The cross section allows us to consider that the factor premium may differ from the historic mean of the factor\n",
    "(as is assumed in the time-series.)\n",
    "In the cross sectional regression, these factor premia are estimated directly as regression slopes.\n",
    "\n",
    "* The time-series test was a more restrictive model which additionally imposed that the market premium equals the sample average of\n",
    "the excess market return data.\n",
    "Given that the cross-sectional model is more flexible on this point, it is no surprise that the test statistic is lower."
   ],
   "metadata": {
    "collapsed": false,
    "pycharm": {
     "name": "#%% md\n"
    }
   }
  },
  {
   "cell_type": "markdown",
   "source": [
    "#### Momentum Strategy by AQR\n",
    "##### Compare between long-only, and long-short strategy\n",
    "* compared with the long-only and long-short strategy, the long-only strategy has larger mean, volatility, SR, but it's highly\n",
    "corrolated to the market returns, and thus it's essentially a market strategy.\n",
    "* While the long-short strategy has almost no market correlation.\n",
    "\n",
    "* Shorting the biggest losers in the investment universe should provide additional source of return for the strategy.\n",
    "However, our analysis showed that the mean return from doing this is lower than it is from putting all the weight of the portfolio into the long side of momentum. Accordingly, we saw that the long-only implementation in the homework had higher mean return.\n",
    "The problem with it was the high market correlation and higher volatility.\n",
    "\n",
    "* The extreme construction was found to lead to higher mean returns, as expected in theory.\n",
    "But it also has more idiosyncratic risk and thus higher volatility, (also as expected in theory.)\n",
    "Whether this balance of higher return and higher risk is \"better\" is an open question.\n",
    "\n",
    "* In our analysis, we have 3 different constructions on Momentum, with very little difference in regard to the Sharpe Ratio.\n"
   ],
   "metadata": {
    "collapsed": false,
    "pycharm": {
     "name": "#%% md\n"
    }
   }
  }
 ],
 "metadata": {
  "kernelspec": {
   "display_name": "Python 3",
   "language": "python",
   "name": "python3"
  },
  "language_info": {
   "codemirror_mode": {
    "name": "ipython",
    "version": 2
   },
   "file_extension": ".py",
   "mimetype": "text/x-python",
   "name": "python",
   "nbconvert_exporter": "python",
   "pygments_lexer": "ipython2",
   "version": "2.7.6"
  }
 },
 "nbformat": 4,
 "nbformat_minor": 0
}