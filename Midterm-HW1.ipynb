{
 "cells": [
  {
   "cell_type": "code",
   "execution_count": 86,
   "metadata": {
    "collapsed": true
   },
   "outputs": [],
   "source": [
    "# import the data\n",
    "import pandas as pd\n",
    "import numpy as np\n",
    "\n",
    "path = 'assetclass_data_monthly_2009.xlsx'\n",
    "df = pd.read_excel(path)\n",
    "df.set_index('Dates',inplace=True)"
   ]
  },
  {
   "cell_type": "code",
   "execution_count": 87,
   "outputs": [
    {
     "data": {
      "text/plain": "            Domestic Equity  Foreign Equity  Emerging Markets  Private Equity  \\\nDates                                                                           \n2009-03-31         0.082349        0.082774          0.167482        0.152342   \n2009-04-30         0.098793        0.114638          0.155007        0.229647   \n2009-05-29         0.058921        0.132384          0.159879        0.054357   \n2009-06-30        -0.001272       -0.014908         -0.023120        0.044847   \n2009-07-31         0.074632        0.100439          0.110174        0.143274   \n...                     ...             ...               ...             ...   \n2019-05-31        -0.066198       -0.052755         -0.075726       -0.056143   \n2019-06-28         0.067229        0.056738          0.059691        0.054962   \n2019-07-31         0.013501       -0.021091         -0.028182       -0.004970   \n2019-08-30        -0.019007       -0.021504         -0.040085       -0.013188   \n2019-09-30         0.018047        0.030209          0.015476        0.021125   \n\n            Absolute Return  High Yield  Commodities  Real Estate  \\\nDates                                                               \n2009-03-31        -0.012250    0.018166     0.043914     0.034089   \n2009-04-30         0.022329    0.137877    -0.009741     0.295595   \n2009-05-29         0.028333    0.028963     0.197137     0.023195   \n2009-06-30        -0.004035    0.032761     0.005095    -0.025683   \n2009-07-31         0.015351    0.069189     0.004465     0.105825   \n...                     ...         ...          ...          ...   \n2019-05-31        -0.015476   -0.021744    -0.084561    -0.003921   \n2019-06-28         0.015879    0.029173     0.041941     0.010348   \n2019-07-31        -0.002933   -0.000054    -0.003736     0.022205   \n2019-08-30        -0.005225    0.004637    -0.058492     0.032080   \n2019-09-30         0.002858    0.002970     0.016060     0.017476   \n\n            Domestic Bonds  Foreign Bonds  Inflation-Indexed  \nDates                                                         \n2009-03-31        0.031970       0.046377           0.057925  \n2009-04-30       -0.028010       0.008439          -0.018521  \n2009-05-29       -0.020293       0.054136           0.020491  \n2009-06-30       -0.006119       0.004552           0.001410  \n2009-07-31        0.008340       0.031310           0.000910  \n...                    ...            ...                ...  \n2019-05-31        0.028056       0.009023           0.015095  \n2019-06-28        0.009794       0.031919           0.005117  \n2019-07-31       -0.001231      -0.014542           0.001540  \n2019-08-30        0.037227       0.016247           0.021039  \n2019-09-30       -0.013294      -0.011568          -0.012491  \n\n[127 rows x 11 columns]",
      "text/html": "<div>\n<style scoped>\n    .dataframe tbody tr th:only-of-type {\n        vertical-align: middle;\n    }\n\n    .dataframe tbody tr th {\n        vertical-align: top;\n    }\n\n    .dataframe thead th {\n        text-align: right;\n    }\n</style>\n<table border=\"1\" class=\"dataframe\">\n  <thead>\n    <tr style=\"text-align: right;\">\n      <th></th>\n      <th>Domestic Equity</th>\n      <th>Foreign Equity</th>\n      <th>Emerging Markets</th>\n      <th>Private Equity</th>\n      <th>Absolute Return</th>\n      <th>High Yield</th>\n      <th>Commodities</th>\n      <th>Real Estate</th>\n      <th>Domestic Bonds</th>\n      <th>Foreign Bonds</th>\n      <th>Inflation-Indexed</th>\n    </tr>\n    <tr>\n      <th>Dates</th>\n      <th></th>\n      <th></th>\n      <th></th>\n      <th></th>\n      <th></th>\n      <th></th>\n      <th></th>\n      <th></th>\n      <th></th>\n      <th></th>\n      <th></th>\n    </tr>\n  </thead>\n  <tbody>\n    <tr>\n      <th>2009-03-31</th>\n      <td>0.082349</td>\n      <td>0.082774</td>\n      <td>0.167482</td>\n      <td>0.152342</td>\n      <td>-0.012250</td>\n      <td>0.018166</td>\n      <td>0.043914</td>\n      <td>0.034089</td>\n      <td>0.031970</td>\n      <td>0.046377</td>\n      <td>0.057925</td>\n    </tr>\n    <tr>\n      <th>2009-04-30</th>\n      <td>0.098793</td>\n      <td>0.114638</td>\n      <td>0.155007</td>\n      <td>0.229647</td>\n      <td>0.022329</td>\n      <td>0.137877</td>\n      <td>-0.009741</td>\n      <td>0.295595</td>\n      <td>-0.028010</td>\n      <td>0.008439</td>\n      <td>-0.018521</td>\n    </tr>\n    <tr>\n      <th>2009-05-29</th>\n      <td>0.058921</td>\n      <td>0.132384</td>\n      <td>0.159879</td>\n      <td>0.054357</td>\n      <td>0.028333</td>\n      <td>0.028963</td>\n      <td>0.197137</td>\n      <td>0.023195</td>\n      <td>-0.020293</td>\n      <td>0.054136</td>\n      <td>0.020491</td>\n    </tr>\n    <tr>\n      <th>2009-06-30</th>\n      <td>-0.001272</td>\n      <td>-0.014908</td>\n      <td>-0.023120</td>\n      <td>0.044847</td>\n      <td>-0.004035</td>\n      <td>0.032761</td>\n      <td>0.005095</td>\n      <td>-0.025683</td>\n      <td>-0.006119</td>\n      <td>0.004552</td>\n      <td>0.001410</td>\n    </tr>\n    <tr>\n      <th>2009-07-31</th>\n      <td>0.074632</td>\n      <td>0.100439</td>\n      <td>0.110174</td>\n      <td>0.143274</td>\n      <td>0.015351</td>\n      <td>0.069189</td>\n      <td>0.004465</td>\n      <td>0.105825</td>\n      <td>0.008340</td>\n      <td>0.031310</td>\n      <td>0.000910</td>\n    </tr>\n    <tr>\n      <th>...</th>\n      <td>...</td>\n      <td>...</td>\n      <td>...</td>\n      <td>...</td>\n      <td>...</td>\n      <td>...</td>\n      <td>...</td>\n      <td>...</td>\n      <td>...</td>\n      <td>...</td>\n      <td>...</td>\n    </tr>\n    <tr>\n      <th>2019-05-31</th>\n      <td>-0.066198</td>\n      <td>-0.052755</td>\n      <td>-0.075726</td>\n      <td>-0.056143</td>\n      <td>-0.015476</td>\n      <td>-0.021744</td>\n      <td>-0.084561</td>\n      <td>-0.003921</td>\n      <td>0.028056</td>\n      <td>0.009023</td>\n      <td>0.015095</td>\n    </tr>\n    <tr>\n      <th>2019-06-28</th>\n      <td>0.067229</td>\n      <td>0.056738</td>\n      <td>0.059691</td>\n      <td>0.054962</td>\n      <td>0.015879</td>\n      <td>0.029173</td>\n      <td>0.041941</td>\n      <td>0.010348</td>\n      <td>0.009794</td>\n      <td>0.031919</td>\n      <td>0.005117</td>\n    </tr>\n    <tr>\n      <th>2019-07-31</th>\n      <td>0.013501</td>\n      <td>-0.021091</td>\n      <td>-0.028182</td>\n      <td>-0.004970</td>\n      <td>-0.002933</td>\n      <td>-0.000054</td>\n      <td>-0.003736</td>\n      <td>0.022205</td>\n      <td>-0.001231</td>\n      <td>-0.014542</td>\n      <td>0.001540</td>\n    </tr>\n    <tr>\n      <th>2019-08-30</th>\n      <td>-0.019007</td>\n      <td>-0.021504</td>\n      <td>-0.040085</td>\n      <td>-0.013188</td>\n      <td>-0.005225</td>\n      <td>0.004637</td>\n      <td>-0.058492</td>\n      <td>0.032080</td>\n      <td>0.037227</td>\n      <td>0.016247</td>\n      <td>0.021039</td>\n    </tr>\n    <tr>\n      <th>2019-09-30</th>\n      <td>0.018047</td>\n      <td>0.030209</td>\n      <td>0.015476</td>\n      <td>0.021125</td>\n      <td>0.002858</td>\n      <td>0.002970</td>\n      <td>0.016060</td>\n      <td>0.017476</td>\n      <td>-0.013294</td>\n      <td>-0.011568</td>\n      <td>-0.012491</td>\n    </tr>\n  </tbody>\n</table>\n<p>127 rows × 11 columns</p>\n</div>"
     },
     "execution_count": 87,
     "metadata": {},
     "output_type": "execute_result"
    }
   ],
   "source": [
    "# clean the data\n",
    "df['rf'] = df['Cash'].fillna(0.01/12) # to fill the empty values\n",
    "\n",
    "risky_assets = df.columns[0:11] # columns of indicies\n",
    "df_tilde = df.loc[:,risky_assets]\n",
    "df_tilde.subtract(df['rf'], axis = 0)"
   ],
   "metadata": {
    "collapsed": false,
    "pycharm": {
     "name": "#%%\n"
    }
   }
  },
  {
   "cell_type": "markdown",
   "source": [
    "### For Problem 1\n",
    "(a) Calculate and display the mean and volatility of each asset's excess return. (Recall we use\n",
    "volatility to refer to standard deviation.)\n",
    "\n",
    "(b) Which assets have the best and worst Sharpe ratios?"
   ],
   "metadata": {
    "collapsed": false,
    "pycharm": {
     "name": "#%% md\n"
    }
   }
  },
  {
   "cell_type": "code",
   "source": [
    "df_tilde_annual = df_tilde*12\n",
    "mu_tilde = df_tilde_annual.mean() # mu_tilde is the annual mean\n",
    "sigma = df_tilde_annual.std()/np.sqrt(12)\n",
    "\n",
    "tabel_1 = pd.DataFrame({'Mean':mu_tilde, 'Volatility':sigma, 'Sharpe':mu_tilde/sigma})\n",
    "tabel_1"
   ],
   "metadata": {
    "collapsed": false,
    "pycharm": {
     "name": "#%%\n"
    }
   },
   "execution_count": 88,
   "outputs": [
    {
     "data": {
      "text/plain": "                       Mean  Volatility    Sharpe\nDomestic Equity    0.161179    0.129421  1.245379\nForeign Equity     0.102351    0.157513  0.649794\nEmerging Markets   0.101234    0.201679  0.501956\nPrivate Equity     0.168527    0.199450  0.844960\nAbsolute Return    0.028065    0.044154  0.635627\nHigh Yield         0.093070    0.082830  1.123624\nCommodities       -0.015270    0.190977 -0.079957\nReal Estate        0.179612    0.175007  1.026310\nDomestic Bonds     0.041959    0.058571  0.716379\nForeign Bonds      0.030151    0.077190  0.390615\nInflation-Indexed  0.040689    0.048581  0.837548",
      "text/html": "<div>\n<style scoped>\n    .dataframe tbody tr th:only-of-type {\n        vertical-align: middle;\n    }\n\n    .dataframe tbody tr th {\n        vertical-align: top;\n    }\n\n    .dataframe thead th {\n        text-align: right;\n    }\n</style>\n<table border=\"1\" class=\"dataframe\">\n  <thead>\n    <tr style=\"text-align: right;\">\n      <th></th>\n      <th>Mean</th>\n      <th>Volatility</th>\n      <th>Sharpe</th>\n    </tr>\n  </thead>\n  <tbody>\n    <tr>\n      <th>Domestic Equity</th>\n      <td>0.161179</td>\n      <td>0.129421</td>\n      <td>1.245379</td>\n    </tr>\n    <tr>\n      <th>Foreign Equity</th>\n      <td>0.102351</td>\n      <td>0.157513</td>\n      <td>0.649794</td>\n    </tr>\n    <tr>\n      <th>Emerging Markets</th>\n      <td>0.101234</td>\n      <td>0.201679</td>\n      <td>0.501956</td>\n    </tr>\n    <tr>\n      <th>Private Equity</th>\n      <td>0.168527</td>\n      <td>0.199450</td>\n      <td>0.844960</td>\n    </tr>\n    <tr>\n      <th>Absolute Return</th>\n      <td>0.028065</td>\n      <td>0.044154</td>\n      <td>0.635627</td>\n    </tr>\n    <tr>\n      <th>High Yield</th>\n      <td>0.093070</td>\n      <td>0.082830</td>\n      <td>1.123624</td>\n    </tr>\n    <tr>\n      <th>Commodities</th>\n      <td>-0.015270</td>\n      <td>0.190977</td>\n      <td>-0.079957</td>\n    </tr>\n    <tr>\n      <th>Real Estate</th>\n      <td>0.179612</td>\n      <td>0.175007</td>\n      <td>1.026310</td>\n    </tr>\n    <tr>\n      <th>Domestic Bonds</th>\n      <td>0.041959</td>\n      <td>0.058571</td>\n      <td>0.716379</td>\n    </tr>\n    <tr>\n      <th>Foreign Bonds</th>\n      <td>0.030151</td>\n      <td>0.077190</td>\n      <td>0.390615</td>\n    </tr>\n    <tr>\n      <th>Inflation-Indexed</th>\n      <td>0.040689</td>\n      <td>0.048581</td>\n      <td>0.837548</td>\n    </tr>\n  </tbody>\n</table>\n</div>"
     },
     "execution_count": 88,
     "metadata": {},
     "output_type": "execute_result"
    }
   ]
  },
  {
   "cell_type": "markdown",
   "source": [
    "### Problem 2: The MV Frontier\n",
    "(a) Compute and display the weights of the tangency portfolios: $w^{tan}$.\n",
    "\n",
    "(b) Compute the mean, volatility, and Sharpe ratio for the tangency portfolio corresponding to\n",
    "$w^{tan}$.\n",
    "\n",
    "* The MV Frontier:\n",
    "$\n",
    "\\omega^t = (\\frac{1}{1'\\Sigma^{-1}\\mu})\\Sigma^{-1}\\mu\n",
    "$\n",
    "* Where, $\\Sigma$ is the **matrix of covariance of asset returns**, then we convert it\n",
    "* Where, $\\mu$ is the N*1 vector of mean returns"
   ],
   "metadata": {
    "collapsed": false,
    "pycharm": {
     "name": "#%% md\n"
    }
   }
  },
  {
   "cell_type": "code",
   "execution_count": 89,
   "outputs": [
    {
     "data": {
      "text/plain": "Domestic Equity      0.940305\nForeign Equity      -0.037456\nEmerging Markets    -0.137785\nPrivate Equity      -0.147648\nAbsolute Return     -0.879594\nHigh Yield           0.699706\nCommodities         -0.104370\nReal Estate         -0.192864\nDomestic Bonds       0.677625\nForeign Bonds       -0.030999\nInflation-Indexed    0.213079\ndtype: float64"
     },
     "execution_count": 89,
     "metadata": {},
     "output_type": "execute_result"
    }
   ],
   "source": [
    "# Compute and display the tangency portfolios\n",
    "\n",
    "# Remember to use the annualized data as the diagram in this function!!!\n",
    "\n",
    "def compute_tangency(df_tilde_annual,diagonalize_Sigma=False):\n",
    "    Sigma = df_tilde_annual.cov() # df_tilde is all risky assets\n",
    "\n",
    "    # N is the number of risky_assets\n",
    "    N = Sigma.shape[0] # the column number, big N\n",
    "    Sigma_adj = Sigma.copy()\n",
    "\n",
    "    if diagonalize_Sigma:\n",
    "        Sigma_adj.loc[:,:] = np.diag(np.diag(Sigma_adj))\n",
    "\n",
    "    mu_tilde = df_tilde_annual.mean() # will return the mean value for each column prices(each asset)\n",
    "    Sigma_inv = np.linalg.inv(Sigma_adj) # the sigma inverse matrix\n",
    "    weights = Sigma_inv @ mu_tilde / (np.ones(N) @ Sigma_inv @ mu_tilde)\n",
    "\n",
    "    omega_tangency = pd.Series(weights,index=mu_tilde.index)\n",
    "    return omega_tangency, mu_tilde, Sigma\n",
    "\n",
    "omega_tangency, mu_tilde, Sigma = compute_tangency(df_tilde_annual)\n",
    "omega_tangency"
   ],
   "metadata": {
    "collapsed": false,
    "pycharm": {
     "name": "#%%\n"
    }
   }
  },
  {
   "cell_type": "markdown",
   "source": [
    "* To compute the mean, volatility and the sharpe ratio for the tangency"
   ],
   "metadata": {
    "collapsed": false,
    "pycharm": {
     "name": "#%% md\n"
    }
   }
  },
  {
   "cell_type": "code",
   "execution_count": 90,
   "outputs": [
    {
     "name": "stdout",
     "output_type": "stream",
     "text": [
      "Mean:  0.15244823468891544 Volatility:  0.06257208228691906 Sharpe Ratio:  2.4363618584703124\n"
     ]
    }
   ],
   "source": [
    "# Mean\n",
    "# Now we have the weights of each portfolio, we just need to allocate the weight to each asset\n",
    "mean = mu_tilde @ omega_tangency\n",
    "\n",
    "# Volatility\n",
    "volatility = np.sqrt(omega_tangency @ Sigma @ omega_tangency)/np.sqrt(12)\n",
    "\n",
    "# Sharpe ratio\n",
    "sharpe_ratio = mean/volatility\n",
    "\n",
    "print(\"Mean: \", mean, 'Volatility: ', volatility, 'Sharpe Ratio: ',sharpe_ratio)"
   ],
   "metadata": {
    "collapsed": false,
    "pycharm": {
     "name": "#%%\n"
    }
   }
  },
  {
   "cell_type": "markdown",
   "source": [
    "### The Allocation\n",
    "(a) Compute and display the weights of MV portfolios with target returns of $\\mu^p$ = .0067\n",
    "\n",
    "(b) What is the mean, volatility, and Sharpe ratio for $w^p$?\n",
    "\n",
    "(c) Discuss the allocation. In which assets is the portfolio most long? And short?\n",
    "\n",
    "(d) Does this line up with which assets have the strongest Sharpe ratios?"
   ],
   "metadata": {
    "collapsed": false,
    "pycharm": {
     "name": "#%% md\n"
    }
   }
  },
  {
   "cell_type": "markdown",
   "source": [
    "#### The allocation of the MV, given the expected target returns $\\mu^p$\n",
    "$\n",
    " \\tilde\\delta = (\\frac{1'\\Sigma^{-1}\\tilde\\mu}{{\\tilde\\mu}'\\Sigma^{-1}\\tilde\\mu})\\tilde\\mu^p\n",
    "$"
   ],
   "metadata": {
    "collapsed": false,
    "pycharm": {
     "name": "#%% md\n"
    }
   }
  },
  {
   "cell_type": "code",
   "execution_count": 91,
   "outputs": [
    {
     "name": "stdout",
     "output_type": "stream",
     "text": [
      "Domestic Equity      0.495909\n",
      "Foreign Equity      -0.019754\n",
      "Emerging Markets    -0.072667\n",
      "Private Equity      -0.077868\n",
      "Absolute Return     -0.463891\n",
      "High Yield           0.369020\n",
      "Commodities         -0.055044\n",
      "Real Estate         -0.101715\n",
      "Domestic Bonds       0.357374\n",
      "Foreign Bonds       -0.016349\n",
      "Inflation-Indexed    0.112376\n",
      "dtype: float64\n"
     ]
    }
   ],
   "source": [
    "def target_mv_portfolio(df_tilde, target_returns=0.0067, diagnolize_sigma = False\n",
    "                        ):\n",
    "    # compute MV optimal portfolio, given the target returns and set of excessive returns\n",
    "    omega_tangency, mu_tilde, Sigma = compute_tangency(df_tilde)\n",
    "    # to use the function created above\n",
    "    Sigma_adj = Sigma.copy()\n",
    "    N = Sigma_adj.shape[0]\n",
    "\n",
    "    if diagnolize_sigma == True:\n",
    "        Sigma_adj.loc[:,:] = np.diag(np.diag(Sigma_adj))\n",
    "\n",
    "    Sigma_inv = np.linalg.inv(Sigma_adj)\n",
    "\n",
    "    delta_tilde = (np.ones(N) @ Sigma_inv @ mu_tilde)/(mu_tilde @ Sigma_inv @ mu_tilde) * target_returns\n",
    "\n",
    "    allocated_omega = omega_tangency * delta_tilde\n",
    "\n",
    "    return allocated_omega\n",
    "\n",
    "allocated_omega = target_mv_portfolio(df_tilde_annual,target_returns=0.0067*12)\n",
    "print(allocated_omega)\n",
    "# Now it returns the target weights\n",
    "#TODO: note here if using @ to get product of matrices, the invert or not does not matter"
   ],
   "metadata": {
    "collapsed": false,
    "pycharm": {
     "name": "#%%\n"
    }
   }
  },
  {
   "cell_type": "code",
   "execution_count": 92,
   "outputs": [
    {
     "name": "stdout",
     "output_type": "stream",
     "text": [
      "Mean:  0.0804 Volatility:  0.03300002408118461 Sharpe Ratio:  2.4363618584703124\n"
     ]
    }
   ],
   "source": [
    "# The mean, volatility and Sharpe Ratio for new portfolios\n",
    "\n",
    "# Mean\n",
    "mean_allocated = mu_tilde @ allocated_omega\n",
    "\n",
    "# Volatility\n",
    "vol_allocated = np.sqrt(allocated_omega @ Sigma @ allocated_omega)/np.sqrt(12)\n",
    "\n",
    "# Sharpe Ratio\n",
    "sharpe_ratio_allocated = mean_allocated / vol_allocated\n",
    "\n",
    "print('Mean: ', mean_allocated, \"Volatility: \", vol_allocated, 'Sharpe Ratio: ', sharpe_ratio_allocated)"
   ],
   "metadata": {
    "collapsed": false,
    "pycharm": {
     "name": "#%%\n"
    }
   }
  },
  {
   "cell_type": "code",
   "execution_count": 93,
   "outputs": [
    {
     "name": "stdout",
     "output_type": "stream",
     "text": [
      "TO sort the weighted allocations\n"
     ]
    },
    {
     "data": {
      "text/plain": "Domestic Equity      0.495909\nHigh Yield           0.369020\nDomestic Bonds       0.357374\nInflation-Indexed    0.112376\nForeign Bonds       -0.016349\nForeign Equity      -0.019754\nCommodities         -0.055044\nEmerging Markets    -0.072667\nPrivate Equity      -0.077868\nReal Estate         -0.101715\nAbsolute Return     -0.463891\ndtype: float64"
     },
     "execution_count": 93,
     "metadata": {},
     "output_type": "execute_result"
    }
   ],
   "source": [
    "print('TO sort the weighted allocations')\n",
    "allocated_omega.sort_values(ascending=False)\n",
    "\n",
    "# then to get the most extreme long and the most extreme short"
   ],
   "metadata": {
    "collapsed": false,
    "pycharm": {
     "name": "#%%\n"
    }
   }
  },
  {
   "cell_type": "markdown",
   "source": [
    "* The longest position is in Domestic Equity, which does have the highest SR.\n",
    "* But the shortest positions are Absolute return and Foreign Equities which do not have the lowest SRs.\n",
    "* This is a reminder that **MV optimization will put strong weights on some securities due to their covariances, not due to their means, vols, or Sharpe Ratios.**\n"
   ],
   "metadata": {
    "collapsed": false,
    "pycharm": {
     "name": "#%% md\n"
    }
   }
  },
  {
   "cell_type": "code",
   "execution_count": 94,
   "outputs": [
    {
     "data": {
      "text/plain": "                   Allocated Weights  Sharpe Ratio\nDomestic Equity             0.495909      1.245379\nForeign Equity             -0.019754      0.649794\nEmerging Markets           -0.072667      0.501956\nPrivate Equity             -0.077868      0.844960\nAbsolute Return            -0.463891      0.635627\nHigh Yield                  0.369020      1.123624\nCommodities                -0.055044     -0.079957\nReal Estate                -0.101715      1.026310\nDomestic Bonds              0.357374      0.716379\nForeign Bonds              -0.016349      0.390615\nInflation-Indexed           0.112376      0.837548",
      "text/html": "<div>\n<style scoped>\n    .dataframe tbody tr th:only-of-type {\n        vertical-align: middle;\n    }\n\n    .dataframe tbody tr th {\n        vertical-align: top;\n    }\n\n    .dataframe thead th {\n        text-align: right;\n    }\n</style>\n<table border=\"1\" class=\"dataframe\">\n  <thead>\n    <tr style=\"text-align: right;\">\n      <th></th>\n      <th>Allocated Weights</th>\n      <th>Sharpe Ratio</th>\n    </tr>\n  </thead>\n  <tbody>\n    <tr>\n      <th>Domestic Equity</th>\n      <td>0.495909</td>\n      <td>1.245379</td>\n    </tr>\n    <tr>\n      <th>Foreign Equity</th>\n      <td>-0.019754</td>\n      <td>0.649794</td>\n    </tr>\n    <tr>\n      <th>Emerging Markets</th>\n      <td>-0.072667</td>\n      <td>0.501956</td>\n    </tr>\n    <tr>\n      <th>Private Equity</th>\n      <td>-0.077868</td>\n      <td>0.844960</td>\n    </tr>\n    <tr>\n      <th>Absolute Return</th>\n      <td>-0.463891</td>\n      <td>0.635627</td>\n    </tr>\n    <tr>\n      <th>High Yield</th>\n      <td>0.369020</td>\n      <td>1.123624</td>\n    </tr>\n    <tr>\n      <th>Commodities</th>\n      <td>-0.055044</td>\n      <td>-0.079957</td>\n    </tr>\n    <tr>\n      <th>Real Estate</th>\n      <td>-0.101715</td>\n      <td>1.026310</td>\n    </tr>\n    <tr>\n      <th>Domestic Bonds</th>\n      <td>0.357374</td>\n      <td>0.716379</td>\n    </tr>\n    <tr>\n      <th>Foreign Bonds</th>\n      <td>-0.016349</td>\n      <td>0.390615</td>\n    </tr>\n    <tr>\n      <th>Inflation-Indexed</th>\n      <td>0.112376</td>\n      <td>0.837548</td>\n    </tr>\n  </tbody>\n</table>\n</div>"
     },
     "execution_count": 94,
     "metadata": {},
     "output_type": "execute_result"
    }
   ],
   "source": [
    "# for comparison purpose only\n",
    "compare = pd.DataFrame({'Allocated Weights':allocated_omega, 'Sharpe Ratio':tabel_1['Sharpe']},index=allocated_omega.index)\n",
    "compare\n",
    "# for answering the question 4, the lowest allocated weights do not have necessarily the lowest sharpe ratios"
   ],
   "metadata": {
    "collapsed": false,
    "pycharm": {
     "name": "#%%\n"
    }
   }
  },
  {
   "cell_type": "markdown",
   "source": [
    "### Problem 4 Long Short Positions\n",
    "* (a) Consider an allocation between only domestic and foreign equities. (Drop all other return\n",
    "columns and recompute $w^p$ for $\\mu^p$ = .0067.)\n",
    "* (b) What is causing the extreme long-short position?\n",
    "* (c) Make an adjustment to $\\mu^{Foreign Equities}$ of +0.001, (+0.012 annualized.) Recompute $w^p$ for\n",
    "$\\mu^p$ = :0067 for these two assets.\n",
    "How does the allocation among the two assets change?\n",
    "* (d) What does this say about the statistical precision of the MV solutions?\n"
   ],
   "metadata": {
    "collapsed": false,
    "pycharm": {
     "name": "#%% md\n"
    }
   }
  },
  {
   "cell_type": "code",
   "execution_count": 95,
   "outputs": [
    {
     "name": "stdout",
     "output_type": "stream",
     "text": [
      "Domestic Equity    0.062378\n",
      "Foreign Equity    -0.032769\n",
      "dtype: float64\n"
     ]
    }
   ],
   "source": [
    "# Consider the allocation only between domestic and foreign equities\n",
    "equities = ['Domestic Equity','Foreign Equity']\n",
    "df_equities = df_tilde_annual[equities].copy()\n",
    "\n",
    "# Now compute the MV given the target returns\n",
    "omega_tangency_equities_target = target_mv_portfolio(df_equities,target_returns=0.0067)\n",
    "print(omega_tangency_equities_target)"
   ],
   "metadata": {
    "collapsed": false,
    "pycharm": {
     "name": "#%%\n"
    }
   }
  },
  {
   "cell_type": "markdown",
   "source": [
    "* for question a: the domestic equity should be longed and foreign equity should be shorted."
   ],
   "metadata": {
    "collapsed": false,
    "pycharm": {
     "name": "#%% md\n"
    }
   }
  },
  {
   "cell_type": "markdown",
   "source": [
    " * The MV optimizer wants to fit the in-sample correlation too tightly by creating a strong long-short position which will net out risk and leave us long the higher mean-return security.\n",
    " * But statistical significance of the difference in the mean returns is weak. Out of sample this could easily go against us. Or the correlations may change and the long-short hedge worsens."
   ],
   "metadata": {
    "collapsed": false,
    "pycharm": {
     "name": "#%% md\n"
    }
   }
  },
  {
   "cell_type": "code",
   "execution_count": 96,
   "outputs": [
    {
     "name": "stdout",
     "output_type": "stream",
     "text": [
      "Domestic Equity    0.748533\n",
      "Foreign Equity    -0.393231\n",
      "dtype: float64\n"
     ]
    }
   ],
   "source": [
    "# Make an adjustment to µ foreign equities of +0.001, (+0.012 annualized.) Recompute wp for µ p = .0067 for these two assets.\n",
    "# How does the allocation among the two assets change?\n",
    "# to add returns to foreign equities\n",
    "df_equities['Foreign Equity']+0.012\n",
    "target = target_mv_portfolio(df_equities,target_returns=0.0067*12)\n",
    "print(target)"
   ],
   "metadata": {
    "collapsed": false,
    "pycharm": {
     "name": "#%%\n"
    }
   }
  },
  {
   "cell_type": "markdown",
   "source": [
    "* Note that when we adjust the mean returns by much less than our standard error, (just .001!) we got very similar allocation.\n",
    "* Generally, we won't see this, and we end up having huge change in allocation with slight in asset return as MV estimation is too sensitive to in-sample noise (also mentioned in part b). In this case, we got lucky for this set of data."
   ],
   "metadata": {
    "collapsed": false,
    "pycharm": {
     "name": "#%% md\n"
    }
   }
  },
  {
   "cell_type": "markdown",
   "source": [
    "### 5. Robustness\n",
    "\n",
    "(a) Recalculate the full allocation, again with the unadjusted $\\mu^{foreign equities}$ and again for $\\mu^p$ =\n",
    "0.0067. This time, make one change: in building $w^{tan}$, do not use $\\Sigma$ as given in the formulas\n",
    "in the lecture. Rather, use a diaganolized $\\Sigma^D$, which zeroes out all non-diagonal elements\n",
    "of the full covariance matrix.\n",
    "How does the allocation look now?\n",
    "\n",
    "(b) What does this suggest about the sensitivity of the solution to estimated means and estimated\n",
    "covariances?\n",
    "\n",
    "(c) HMC deals with this sensitivity by using explicit constraints on the allocation vector. Conceptually,\n",
    "what are the pros/cons of doing that versus modifying the formula with $\\Sigma^D$?"
   ],
   "metadata": {
    "collapsed": false,
    "pycharm": {
     "name": "#%% md\n"
    }
   }
  },
  {
   "cell_type": "code",
   "execution_count": 97,
   "outputs": [
    {
     "name": "stdout",
     "output_type": "stream",
     "text": [
      "Domestic Equity      0.950424\n",
      "High Yield           0.707237\n",
      "Domestic Bonds       0.684918\n",
      "Inflation-Indexed    0.215372\n",
      "Foreign Bonds       -0.031333\n",
      "Foreign Equity      -0.037859\n",
      "Commodities         -0.105493\n",
      "Emerging Markets    -0.139268\n",
      "Private Equity      -0.149237\n",
      "Real Estate         -0.194940\n",
      "Absolute Return     -0.889060\n",
      "dtype: float64\n",
      "1.0107621588841378\n"
     ]
    }
   ],
   "source": [
    "target_inv = target_mv_portfolio(df_tilde_annual,target_returns=0.0067*12, diagnolize_sigma=True)\n",
    "print(target_inv.sort_values(ascending=False))\n",
    "total_fraction = target_inv.sum()\n",
    "print(total_fraction)\n",
    "# The risk asset should account for 53%"
   ],
   "metadata": {
    "collapsed": false,
    "pycharm": {
     "name": "#%%\n"
    }
   }
  },
  {
   "cell_type": "code",
   "execution_count": 98,
   "outputs": [
    {
     "name": "stdout",
     "output_type": "stream",
     "text": [
      "Mean:  0.15408890681224394 Volatility:  0.06324549297820223 Sharpe Ratio:  2.4363618584703133\n"
     ]
    }
   ],
   "source": [
    "# The mean, volatility and Sharpe Ratio for the new portfolio\n",
    "mean = mu_tilde @ target_inv\n",
    "volatility = np.sqrt(target_inv @ Sigma @ target_inv)/np.sqrt(12)\n",
    "Sharpe_ratio = mean / volatility\n",
    "print('Mean: ', mean, \"Volatility: \", volatility, \"Sharpe Ratio: \", Sharpe_ratio)"
   ],
   "metadata": {
    "collapsed": false,
    "pycharm": {
     "name": "#%%\n"
    }
   }
  },
  {
   "cell_type": "code",
   "execution_count": 99,
   "outputs": [
    {
     "name": "stdout",
     "output_type": "stream",
     "text": [
      "                   Allocated Weights  Diagnolized Weights\n",
      "Domestic Equity             0.495909             0.950424\n",
      "Foreign Equity             -0.019754            -0.037859\n",
      "Emerging Markets           -0.072667            -0.139268\n",
      "Private Equity             -0.077868            -0.149237\n",
      "Absolute Return            -0.463891            -0.889060\n",
      "High Yield                  0.369020             0.707237\n",
      "Commodities                -0.055044            -0.105493\n",
      "Real Estate                -0.101715            -0.194940\n",
      "Domestic Bonds              0.357374             0.684918\n",
      "Foreign Bonds              -0.016349            -0.031333\n",
      "Inflation-Indexed           0.112376             0.215372\n"
     ]
    }
   ],
   "source": [
    "compare = pd.DataFrame({'Allocated Weights':allocated_omega,'Diagnolized Weights':target_inv})\n",
    "print(compare)\n"
   ],
   "metadata": {
    "collapsed": false,
    "pycharm": {
     "name": "#%%\n"
    }
   }
  },
  {
   "cell_type": "code",
   "source": [
    "## Out-of-sample performance\n",
    "ofs_df = df_tilde_annual.loc[:'2016',:]\n",
    "ofs_weights = target_mv_portfolio(ofs_df,target_returns= 0.0067)\n",
    "ofs_weights"
   ],
   "metadata": {
    "collapsed": false,
    "pycharm": {
     "name": "#%%\n"
    }
   },
   "execution_count": 104,
   "outputs": [
    {
     "data": {
      "text/plain": "Domestic Equity      0.038818\nForeign Equity      -0.003337\nEmerging Markets    -0.006627\nPrivate Equity      -0.005208\nAbsolute Return     -0.026978\nHigh Yield           0.026221\nCommodities         -0.003070\nReal Estate         -0.006982\nDomestic Bonds       0.024405\nForeign Bonds       -0.005385\nInflation-Indexed    0.012536\ndtype: float64"
     },
     "execution_count": 104,
     "metadata": {},
     "output_type": "execute_result"
    }
   ]
  },
  {
   "cell_type": "code",
   "execution_count": 107,
   "outputs": [
    {
     "name": "stdout",
     "output_type": "stream",
     "text": [
      "ofs_mean: 0.0062142308465465085 ofs_volatility: 0.002586775095801821 ofs_sharpe_ratio: 2.4023081313222123\n"
     ]
    }
   ],
   "source": [
    "# mean\n",
    "ofs_mean = mu_tilde @ ofs_weights # 矩阵相乘得到具体的数值\n",
    "\n",
    "# volatility\n",
    "ofs_volatility = np.sqrt(ofs_weights @ Sigma @ ofs_weights)/np.sqrt(12)\n",
    "\n",
    "# sharpe ratio\n",
    "ofs_sharpe_ratio = ofs_mean / ofs_volatility\n",
    "\n",
    "print('ofs_mean:', ofs_mean, 'ofs_volatility:', ofs_volatility, 'ofs_sharpe_ratio:', ofs_sharpe_ratio)"
   ],
   "metadata": {
    "collapsed": false,
    "pycharm": {
     "name": "#%%\n"
    }
   }
  },
  {
   "cell_type": "code",
   "execution_count": 113,
   "outputs": [
    {
     "name": "stdout",
     "output_type": "stream",
     "text": [
      "                   In-Sample Weights  Out-of-Sample Weights 1  \\\n",
      "Domestic Equity             0.495909                 0.038818   \n",
      "Foreign Equity             -0.019754                -0.003337   \n",
      "Emerging Markets           -0.072667                -0.006627   \n",
      "Private Equity             -0.077868                -0.005208   \n",
      "Absolute Return            -0.463891                -0.026978   \n",
      "High Yield                  0.369020                 0.026221   \n",
      "Commodities                -0.055044                -0.003070   \n",
      "Real Estate                -0.101715                -0.006982   \n",
      "Domestic Bonds              0.357374                 0.024405   \n",
      "Foreign Bonds              -0.016349                -0.005385   \n",
      "Inflation-Indexed           0.112376                 0.012536   \n",
      "\n",
      "                   Out-of-Sample Weights 2  \n",
      "Domestic Equity                   0.041626  \n",
      "Foreign Equity                   -0.002534  \n",
      "Emerging Markets                 -0.004498  \n",
      "Private Equity                   -0.005438  \n",
      "Absolute Return                  -0.028403  \n",
      "High Yield                        0.025525  \n",
      "Commodities                      -0.003838  \n",
      "Real Estate                      -0.008922  \n",
      "Domestic Bonds                    0.030958  \n",
      "Foreign Bonds                    -0.005454  \n",
      "Inflation-Indexed                 0.007515  \n"
     ]
    }
   ],
   "source": [
    "# re-do it from 2017 to 2019\n",
    "df_ofs_2 = df_tilde_annual.loc[:'2017',:]\n",
    "ofs_weights_2 = target_mv_portfolio(df_ofs_2,target_returns=0.0067)\n",
    "ofs_weights_2\n",
    "\n",
    "compare = pd.DataFrame({'In-Sample Weights':allocated_omega,'Out-of-Sample Weights 1':ofs_weights,'Out-of-Sample Weights 2':ofs_weights_2})\n",
    "\n",
    "print(compare)"
   ],
   "metadata": {
    "collapsed": false,
    "pycharm": {
     "name": "#%%\n"
    }
   }
  },
  {
   "cell_type": "code",
   "execution_count": 117,
   "outputs": [
    {
     "name": "stdout",
     "output_type": "stream",
     "text": [
      "ofs_mean: 0.006553059645548 ofs_volatility: 0.0027318882903655988 ofs_sharpe_ratio: 2.3987289921986625\n",
      "                       Means  Volatilities  Sharpe Ratios\n",
      "In-sample MV        0.080400      0.033000       2.436362\n",
      "Out-of-sample_1 MV  0.006214      0.002587       2.402308\n",
      "Out-of-sample_2 MV  0.006553      0.002732       2.398729\n"
     ]
    }
   ],
   "source": [
    "# mean\n",
    "ofs_mean_2 = mu_tilde @ ofs_weights_2 # 矩阵相乘得到具体的数值\n",
    "\n",
    "# volatility\n",
    "ofs_volatility_2 = np.sqrt(ofs_weights_2 @ Sigma @ ofs_weights_2)/np.sqrt(12)\n",
    "\n",
    "# sharpe ratio\n",
    "ofs_sharpe_ratio_2 = ofs_mean_2 / ofs_volatility_2\n",
    "\n",
    "print('ofs_mean:', ofs_mean_2, 'ofs_volatility:', ofs_volatility_2, 'ofs_sharpe_ratio:', ofs_sharpe_ratio_2)\n",
    "\n",
    "# TODO: remember this method to create a comparing table\n",
    "means = [mean_allocated,ofs_mean,ofs_mean_2]\n",
    "volatilities = [vol_allocated,ofs_volatility,ofs_volatility_2]\n",
    "sharpe_ratios = [sharpe_ratio_allocated,ofs_sharpe_ratio,ofs_sharpe_ratio_2]\n",
    "index_comapre = ['In-sample MV','Out-of-sample_1 MV','Out-of-sample_2 MV']\n",
    "comparing_parameters = pd.DataFrame({'Means':means, 'Volatilities':volatilities, 'Sharpe Ratios':sharpe_ratios},index=index_comapre)\n",
    "print(comparing_parameters)"
   ],
   "metadata": {
    "collapsed": false,
    "pycharm": {
     "name": "#%%\n"
    }
   }
  },
  {
   "cell_type": "code",
   "execution_count": null,
   "outputs": [],
   "source": [],
   "metadata": {
    "collapsed": false,
    "pycharm": {
     "name": "#%%\n"
    }
   }
  }
 ],
 "metadata": {
  "kernelspec": {
   "display_name": "Python 3",
   "language": "python",
   "name": "python3"
  },
  "language_info": {
   "codemirror_mode": {
    "name": "ipython",
    "version": 2
   },
   "file_extension": ".py",
   "mimetype": "text/x-python",
   "name": "python",
   "nbconvert_exporter": "python",
   "pygments_lexer": "ipython2",
   "version": "2.7.6"
  }
 },
 "nbformat": 4,
 "nbformat_minor": 0
}