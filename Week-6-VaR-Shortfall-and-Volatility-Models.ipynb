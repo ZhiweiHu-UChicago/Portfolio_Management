{
 "cells": [
  {
   "cell_type": "code",
   "execution_count": 39,
   "metadata": {
    "collapsed": true
   },
   "outputs": [
    {
     "data": {
      "text/plain": "             S&P 500   T-bills   tilde_r\ndate                                    \n1926-01-30 -0.001783  0.003061 -0.004844\n1926-02-27 -0.033296  0.002612 -0.035908\n1926-03-31 -0.057708  0.002601 -0.060309\n1926-04-30  0.038522  0.002270  0.036252\n1926-05-28  0.013623  0.002691  0.010932\n...              ...       ...       ...\n2020-06-30  0.020348  0.000097  0.020251\n2020-07-31  0.056910  0.000076  0.056834\n2020-08-31  0.072068  0.000076  0.071992\n2020-09-30 -0.038152  0.000072 -0.038224\n2020-10-30 -0.026412  0.000063 -0.026476\n\n[1138 rows x 3 columns]",
      "text/html": "<div>\n<style scoped>\n    .dataframe tbody tr th:only-of-type {\n        vertical-align: middle;\n    }\n\n    .dataframe tbody tr th {\n        vertical-align: top;\n    }\n\n    .dataframe thead th {\n        text-align: right;\n    }\n</style>\n<table border=\"1\" class=\"dataframe\">\n  <thead>\n    <tr style=\"text-align: right;\">\n      <th></th>\n      <th>S&amp;P 500</th>\n      <th>T-bills</th>\n      <th>tilde_r</th>\n    </tr>\n    <tr>\n      <th>date</th>\n      <th></th>\n      <th></th>\n      <th></th>\n    </tr>\n  </thead>\n  <tbody>\n    <tr>\n      <th>1926-01-30</th>\n      <td>-0.001783</td>\n      <td>0.003061</td>\n      <td>-0.004844</td>\n    </tr>\n    <tr>\n      <th>1926-02-27</th>\n      <td>-0.033296</td>\n      <td>0.002612</td>\n      <td>-0.035908</td>\n    </tr>\n    <tr>\n      <th>1926-03-31</th>\n      <td>-0.057708</td>\n      <td>0.002601</td>\n      <td>-0.060309</td>\n    </tr>\n    <tr>\n      <th>1926-04-30</th>\n      <td>0.038522</td>\n      <td>0.002270</td>\n      <td>0.036252</td>\n    </tr>\n    <tr>\n      <th>1926-05-28</th>\n      <td>0.013623</td>\n      <td>0.002691</td>\n      <td>0.010932</td>\n    </tr>\n    <tr>\n      <th>...</th>\n      <td>...</td>\n      <td>...</td>\n      <td>...</td>\n    </tr>\n    <tr>\n      <th>2020-06-30</th>\n      <td>0.020348</td>\n      <td>0.000097</td>\n      <td>0.020251</td>\n    </tr>\n    <tr>\n      <th>2020-07-31</th>\n      <td>0.056910</td>\n      <td>0.000076</td>\n      <td>0.056834</td>\n    </tr>\n    <tr>\n      <th>2020-08-31</th>\n      <td>0.072068</td>\n      <td>0.000076</td>\n      <td>0.071992</td>\n    </tr>\n    <tr>\n      <th>2020-09-30</th>\n      <td>-0.038152</td>\n      <td>0.000072</td>\n      <td>-0.038224</td>\n    </tr>\n    <tr>\n      <th>2020-10-30</th>\n      <td>-0.026412</td>\n      <td>0.000063</td>\n      <td>-0.026476</td>\n    </tr>\n  </tbody>\n</table>\n<p>1138 rows × 3 columns</p>\n</div>"
     },
     "metadata": {},
     "output_type": "display_data"
    }
   ],
   "source": [
    "import pandas as pd\n",
    "import numpy as np\n",
    "import scipy.stats\n",
    "from IPython.core.display import display\n",
    "from matplotlib import pyplot as plt\n",
    "import seaborn as sns\n",
    "\n",
    "path = 'barnstable_data.xlsx'\n",
    "df = pd.read_excel(path,index_col='date')\n",
    "df['tilde_r'] = df['S&P 500'] - df['T-bills']\n",
    "display(df)"
   ]
  },
  {
   "cell_type": "code",
   "execution_count": 40,
   "outputs": [
    {
     "name": "stdout",
     "output_type": "stream",
     "text": [
      "log mu: 0.109\n",
      "level sigma: 0.182\n",
      "level variance: 0.033\n"
     ]
    }
   ],
   "source": [
    "# The case assumes that the stock returns are iid, and is log-normally distributed\n",
    "# To calculate the level returns and the log returns\n",
    "\n",
    "level_mu = 0.13\n",
    "log_sigma = 0.16\n",
    "log_mu = np.log(level_mu+1)-(1/2) * log_sigma**2\n",
    "print('log mu: {:.3f}'.format(log_mu))\n",
    "\n",
    "level_sigma = np.sqrt(np.exp(2*log_mu+log_sigma**2)*(np.exp(log_sigma**2)-1))\n",
    "print('level sigma: {:.3f}'.format(level_sigma))\n",
    "print('level variance: {:.3f}'.format(level_sigma**2))"
   ],
   "metadata": {
    "collapsed": false,
    "pycharm": {
     "name": "#%%\n"
    }
   }
  },
  {
   "cell_type": "code",
   "execution_count": 41,
   "outputs": [
    {
     "name": "stdout",
     "output_type": "stream",
     "text": [
      "Solution Table 2: Case Parameters for LEVELS\n",
      "Solution Table 3: Case Parameters for LOGS\n"
     ]
    },
    {
     "data": {
      "text/plain": "          mean 1965-1999 std 1965-1999 mean 2000-2020 std 2000-2020  \\\nr_M             0.129354      0.149404       0.070562      0.150128   \ntilde_r_M      0.0678511      0.150226      0.0552853      0.150666   \nr_f            0.0615028    0.00717899      0.0152766    0.00506818   \n\n          mean 1965-2020 std 1965-2020  \nr_M             0.107417      0.149788  \ntilde_r_M      0.0631881      0.150289  \nr_f            0.0442285    0.00914133  ",
      "text/html": "<div>\n<style scoped>\n    .dataframe tbody tr th:only-of-type {\n        vertical-align: middle;\n    }\n\n    .dataframe tbody tr th {\n        vertical-align: top;\n    }\n\n    .dataframe thead th {\n        text-align: right;\n    }\n</style>\n<table border=\"1\" class=\"dataframe\">\n  <thead>\n    <tr style=\"text-align: right;\">\n      <th></th>\n      <th>mean 1965-1999</th>\n      <th>std 1965-1999</th>\n      <th>mean 2000-2020</th>\n      <th>std 2000-2020</th>\n      <th>mean 1965-2020</th>\n      <th>std 1965-2020</th>\n    </tr>\n  </thead>\n  <tbody>\n    <tr>\n      <th>r_M</th>\n      <td>0.129354</td>\n      <td>0.149404</td>\n      <td>0.070562</td>\n      <td>0.150128</td>\n      <td>0.107417</td>\n      <td>0.149788</td>\n    </tr>\n    <tr>\n      <th>tilde_r_M</th>\n      <td>0.0678511</td>\n      <td>0.150226</td>\n      <td>0.0552853</td>\n      <td>0.150666</td>\n      <td>0.0631881</td>\n      <td>0.150289</td>\n    </tr>\n    <tr>\n      <th>r_f</th>\n      <td>0.0615028</td>\n      <td>0.00717899</td>\n      <td>0.0152766</td>\n      <td>0.00506818</td>\n      <td>0.0442285</td>\n      <td>0.00914133</td>\n    </tr>\n  </tbody>\n</table>\n</div>"
     },
     "metadata": {},
     "output_type": "display_data"
    },
    {
     "data": {
      "text/plain": "          mean 1965-1999 std 1965-1999 mean 2000-2020 std 2000-2020  \\\nr_M               0.1176      0.149568      0.0590501       0.15144   \ntilde_r_M      0.0562795      0.150396       0.043796      0.151958   \nr_f            0.0613204    0.00713204      0.0152542     0.0050577   \n\n          mean 1965-2020 std 1965-2020  \nr_M            0.0957529      0.150379  \ntilde_r_M      0.0516471       0.15088  \nr_f            0.0441058     0.0091003  ",
      "text/html": "<div>\n<style scoped>\n    .dataframe tbody tr th:only-of-type {\n        vertical-align: middle;\n    }\n\n    .dataframe tbody tr th {\n        vertical-align: top;\n    }\n\n    .dataframe thead th {\n        text-align: right;\n    }\n</style>\n<table border=\"1\" class=\"dataframe\">\n  <thead>\n    <tr style=\"text-align: right;\">\n      <th></th>\n      <th>mean 1965-1999</th>\n      <th>std 1965-1999</th>\n      <th>mean 2000-2020</th>\n      <th>std 2000-2020</th>\n      <th>mean 1965-2020</th>\n      <th>std 1965-2020</th>\n    </tr>\n  </thead>\n  <tbody>\n    <tr>\n      <th>r_M</th>\n      <td>0.1176</td>\n      <td>0.149568</td>\n      <td>0.0590501</td>\n      <td>0.15144</td>\n      <td>0.0957529</td>\n      <td>0.150379</td>\n    </tr>\n    <tr>\n      <th>tilde_r_M</th>\n      <td>0.0562795</td>\n      <td>0.150396</td>\n      <td>0.043796</td>\n      <td>0.151958</td>\n      <td>0.0516471</td>\n      <td>0.15088</td>\n    </tr>\n    <tr>\n      <th>r_f</th>\n      <td>0.0613204</td>\n      <td>0.00713204</td>\n      <td>0.0152542</td>\n      <td>0.0050577</td>\n      <td>0.0441058</td>\n      <td>0.0091003</td>\n    </tr>\n  </tbody>\n</table>\n</div>"
     },
     "metadata": {},
     "output_type": "display_data"
    }
   ],
   "source": [
    "# To estimate the under-performance\n",
    "# The above estimate was directly from the case, no we're using the real data to do the test ourselves\n",
    "\n",
    "def subtable_2_1(r_M='S&P 500', r_f='T-bills', df=df): # market & risk-free\n",
    "    table = pd.DataFrame(columns=['mean', 'std'],\n",
    "        index=['r_M', 'tilde_r_M', 'r_f'])\n",
    "\n",
    "    table.loc['r_M', 'mean'] = df[r_M].mean() * 12\n",
    "    table.loc['r_f', 'mean'] = df[r_f].mean() * 12\n",
    "    table.loc['tilde_r_M', 'mean'] = table.loc['r_M', 'mean'] - table.loc['r_f', 'mean']\n",
    "\n",
    "    # the method to calculate the annualized standard deviation: df[column].std()*np.sqrt(12)\n",
    "    table.loc['r_M', 'std'] = df[r_M].std() * np.sqrt(12)\n",
    "    table.loc['r_f', 'std'] = df[r_f].std() * np.sqrt(12)\n",
    "    table.loc['tilde_r_M', 'std'] = (df[r_M] - df[r_f]).std() * np.sqrt(12)\n",
    "    return table\n",
    "\n",
    "# Then to calculate the level and log statistics\n",
    "# Levels\n",
    "df_subset = df.loc['1965':'1999']\n",
    "subtable_level_1965_1999 = subtable_2_1(df=df_subset) # you just change the df parameter\n",
    "\n",
    "df_subset = df.loc['2000':'2020']\n",
    "subtable_level_2000_2020 = subtable_2_1(df=df_subset)\n",
    "\n",
    "df_subset = df.loc['1965':'2020']\n",
    "subtable_level_1965_2020 = subtable_2_1(df=df_subset)\n",
    "\n",
    "\n",
    "# Log tables\n",
    "# from level returns to log returns, why you're adding 1 here?\n",
    "df_subset = np.log(df.loc['1965':'1999'] + 1)\n",
    "subtable_log_1965_1999 = subtable_2_1(df=df_subset)\n",
    "\n",
    "df_subset = np.log(df.loc['2000':'2020'] + 1)\n",
    "subtable_log_2000_2020 = subtable_2_1(df=df_subset)\n",
    "\n",
    "df_subset = np.log(df.loc['1965':'2020'] + 1)\n",
    "subtable_log_1965_2020 = subtable_2_1(df=df_subset)\n",
    "\n",
    "\n",
    "# Now you display two tables\n",
    "# because you used 'subtable-2-1' to calculate those statistics, the column names\n",
    "# are all 'mean', so here you need to rename the columns of dataframes to put on the\n",
    "# time stamps\n",
    "subtable_level_1965_1999 = subtable_level_1965_1999.rename(columns=\\\n",
    "                    {'mean':'mean 1965-1999','std':'std 1965-1999'})\n",
    "\n",
    "subtable_level_2000_2020 = subtable_level_2000_2020.rename(columns=\\\n",
    "                    {'mean':'mean 2000-2020','std':'std 2000-2020'})\n",
    "\n",
    "subtable_level_1965_2020 = subtable_level_1965_2020.rename(columns=\\\n",
    "                    {'mean':'mean 1965-2020','std':'std 1965-2020'})\n",
    "\n",
    "q21 = pd.concat([subtable_level_1965_1999,subtable_level_2000_2020,subtable_level_1965_2020], axis=1)\n",
    "print('Solution Table 2: Case Parameters for LEVELS')\n",
    "display(q21)\n",
    "\n",
    "\n",
    "subtable_log_1965_1999 = subtable_log_1965_1999.rename(columns=\\\n",
    "                    {'mean':'mean 1965-1999','std':'std 1965-1999'})\n",
    "subtable_log_2000_2020 = subtable_log_2000_2020.rename(columns=\\\n",
    "                    {'mean':'mean 2000-2020','std':'std 2000-2020'})\n",
    "subtable_log_1965_2020 = subtable_log_1965_2020.rename(columns=\\\n",
    "                    {'mean':'mean 1965-2020','std':'std 1965-2020'})\n",
    "q22 = pd.concat([subtable_log_1965_1999,subtable_log_2000_2020,subtable_log_1965_2020], axis=1)\n",
    "print('Solution Table 3: Case Parameters for LOGS')\n",
    "display(q22)"
   ],
   "metadata": {
    "collapsed": false,
    "pycharm": {
     "name": "#%%\n"
    }
   }
  },
  {
   "cell_type": "markdown",
   "source": [
    "#### Comments:\n",
    "* The sub-sample 1965-1999 has much higher returns compared with the full sample and sub-sample 2000-2020\n",
    "* This is largely due to lower market returns in the later period.\n",
    "* The log returns shows lower values as expected."
   ],
   "metadata": {
    "collapsed": false,
    "pycharm": {
     "name": "#%% md\n"
    }
   }
  },
  {
   "cell_type": "markdown",
   "source": [
    "#### To calculate the possibilities of the cumulative market return\n",
    "#### to fall short of the cumulative risk-free return"
   ],
   "metadata": {
    "collapsed": false,
    "pycharm": {
     "name": "#%% md\n"
    }
   }
  },
  {
   "cell_type": "markdown",
   "source": [
    "### To Clarify This:\n",
    "in order to calculate $$Pr [R^M_{t,t+h} < R^f_{t,t+h}]$$\n",
    "the cumulative log returns are simply the sum of single returns\n",
    "We apply the cumulative function to both side $$ Pr [\\sum_{i=1}^h R^M_{t,t+h} < \\sum_{i=1}^h R^f_{t,t+h}]$$\n",
    "it will be easier to use average returns, by divided by $$\\frac{1}{h}$$\n",
    "\n",
    "that is $$Pr[\\bar r^M_{t,t+h} - \\bar r^f_{t,t+h} < 0]$$ to calculate the average excessive return below 0\n",
    "\n",
    "Which is just $$Pr[\\tilde r^M_{t,t+h}<0]$$, and $$\\tilde r^M_{t,t+h}$$ denotes the h-period sample average of $$\\tilde r^M$$\n",
    "\n",
    "Meanwhile, given that **we assume the stock returns is iid and the log returns follows the normal distribution, that is:\n",
    "$$\\tilde r^M_{t,t+h} \\sim N(\\tilde \\mu, \\frac{\\sigma^2}{h})$$\n",
    "that $$\\tilde\\mu \\equiv E[\\tilde r^M] = \\mu - \\mu_f $$\n",
    "and $$\\tilde \\sigma \\equiv std[\\tilde r^M]$$\n",
    "thus $$ p(h) = Ф _N \\left( - \\sqrt{h} \\frac{\\tilde{\\mu}} {\\tilde{\\sigma} }\\right) $$\n",
    "\n",
    "Now with the historical data, we can do the estimated possibilities that the market returns perform worse than risk-free returns\n",
    "over the next 30 years"
   ],
   "metadata": {
    "collapsed": false,
    "pycharm": {
     "name": "#%% md\n"
    }
   }
  },
  {
   "cell_type": "code",
   "execution_count": 42,
   "outputs": [
    {
     "data": {
      "text/plain": "h                    5         10        15        20       25        30\nPossibilities  0.201366  0.118336  0.073627  0.047114  0.03067  0.020201",
      "text/html": "<div>\n<style scoped>\n    .dataframe tbody tr th:only-of-type {\n        vertical-align: middle;\n    }\n\n    .dataframe tbody tr th {\n        vertical-align: top;\n    }\n\n    .dataframe thead th {\n        text-align: right;\n    }\n</style>\n<table border=\"1\" class=\"dataframe\">\n  <thead>\n    <tr style=\"text-align: right;\">\n      <th>h</th>\n      <th>5</th>\n      <th>10</th>\n      <th>15</th>\n      <th>20</th>\n      <th>25</th>\n      <th>30</th>\n    </tr>\n  </thead>\n  <tbody>\n    <tr>\n      <th>Possibilities</th>\n      <td>0.201366</td>\n      <td>0.118336</td>\n      <td>0.073627</td>\n      <td>0.047114</td>\n      <td>0.03067</td>\n      <td>0.020201</td>\n    </tr>\n  </tbody>\n</table>\n</div>"
     },
     "metadata": {},
     "output_type": "display_data"
    },
    {
     "name": "stdout",
     "output_type": "stream",
     "text": [
      "5-year possibility: 0.2014\n",
      "20-year possibilities: 0.0471\n"
     ]
    }
   ],
   "source": [
    "df_subset = df.loc['1965':'1999',:]\n",
    "table_4 = pd.DataFrame(columns=['h','Possibilities'])\n",
    "table_4['h'] = [x for x in range(5,35,5)]\n",
    "table_4.set_index('h',inplace=True)\n",
    "\n",
    "def possibilities(h, tilde_mu, tilde_sigma):\n",
    "    x = -np.sqrt(h) * tilde_mu / tilde_sigma # here's the value on the x-axis of the cdf\n",
    "    value = scipy.stats.norm.cdf(x) # use cdf to calculate the cumulative possibilities\n",
    "    return value\n",
    "\n",
    "\n",
    "# now to calculate the possibilities of 1965 - 1999, remember to use log returns\n",
    "tilde_mu = subtable_log_1965_1999.loc['tilde_r_M','mean 1965-1999']\n",
    "tilde_sigma = subtable_log_1965_1999.loc['tilde_r_M','std 1965-1999']\n",
    "\n",
    "table_4['Possibilities'] = possibilities(table_4.index,tilde_mu,tilde_sigma)\n",
    "display(table_4.T)\n",
    "print('5-year possibility: {:.4f}'.format(table_4.loc[5,'Possibilities'])) # Note here that the index could be directly referred as numbers, no need to put as \"5\"\n",
    "print('20-year possibilities: {:.4f}'.format(table_4.loc[20,'Possibilities']))"
   ],
   "metadata": {
    "collapsed": false,
    "pycharm": {
     "name": "#%%\n"
    }
   }
  },
  {
   "cell_type": "code",
   "execution_count": 43,
   "outputs": [
    {
     "data": {
      "text/plain": "<Figure size 1080x360 with 1 Axes>",
      "image/png": "[encoded data removed]"
     },
     "metadata": {
      "needs_background": "light"
     },
     "output_type": "display_data"
    }
   ],
   "source": [
    "# Plot the probability as a function of the investment horizon, h, for 0 < h <= 30 years.\n",
    "fig, ax = plt.subplots(figsize=(15,5))\n",
    "table_4['Possibilities'].plot(color='blue');\n",
    "plt.title('Figure 1: Probability of Shortfall, 1965-1999 data', fontsize=16);\n"
   ],
   "metadata": {
    "collapsed": false,
    "pycharm": {
     "name": "#%%\n"
    }
   }
  },
  {
   "cell_type": "code",
   "execution_count": 44,
   "outputs": [
    {
     "data": {
      "text/plain": "h                   5         10        15        20        25        30\nPossibilities  0.22201  0.139522  0.092461  0.062904  0.043491  0.030404",
      "text/html": "<div>\n<style scoped>\n    .dataframe tbody tr th:only-of-type {\n        vertical-align: middle;\n    }\n\n    .dataframe tbody tr th {\n        vertical-align: top;\n    }\n\n    .dataframe thead th {\n        text-align: right;\n    }\n</style>\n<table border=\"1\" class=\"dataframe\">\n  <thead>\n    <tr style=\"text-align: right;\">\n      <th>h</th>\n      <th>5</th>\n      <th>10</th>\n      <th>15</th>\n      <th>20</th>\n      <th>25</th>\n      <th>30</th>\n    </tr>\n  </thead>\n  <tbody>\n    <tr>\n      <th>Possibilities</th>\n      <td>0.22201</td>\n      <td>0.139522</td>\n      <td>0.092461</td>\n      <td>0.062904</td>\n      <td>0.043491</td>\n      <td>0.030404</td>\n    </tr>\n  </tbody>\n</table>\n</div>"
     },
     "metadata": {},
     "output_type": "display_data"
    },
    {
     "name": "stdout",
     "output_type": "stream",
     "text": [
      "30-year possibilities: 0.0304\n"
     ]
    }
   ],
   "source": [
    "# Now we extend our historical data sample from 1965 to 2020\n",
    "df_subset = df.loc['1965':'2020',:]\n",
    "table_5 = pd.DataFrame(columns=['h','Possibilities'])\n",
    "table_5['h'] = [x for x in range(5,35,5)]\n",
    "table_5.set_index('h',inplace=True)\n",
    "\n",
    "tilde_mu = subtable_log_1965_2020.loc['tilde_r_M', 'mean 1965-2020']\n",
    "tilde_sigma = subtable_log_1965_2020.loc['tilde_r_M', 'std 1965-2020']\n",
    "\n",
    "table_5['Possibilities'] = possibilities(table_5.index,tilde_mu,tilde_sigma)\n",
    "display(table_5.T)\n",
    "print('30-year possibilities: {:.4f}'.format(table_5.loc[30,'Possibilities']))"
   ],
   "metadata": {
    "collapsed": false,
    "pycharm": {
     "name": "#%%\n"
    }
   }
  },
  {
   "cell_type": "code",
   "execution_count": 45,
   "outputs": [
    {
     "data": {
      "text/plain": "                                         mu       prob\n1999 prob underperforming 2000-2020  0.1176  0.0364151",
      "text/html": "<div>\n<style scoped>\n    .dataframe tbody tr th:only-of-type {\n        vertical-align: middle;\n    }\n\n    .dataframe tbody tr th {\n        vertical-align: top;\n    }\n\n    .dataframe thead th {\n        text-align: right;\n    }\n</style>\n<table border=\"1\" class=\"dataframe\">\n  <thead>\n    <tr style=\"text-align: right;\">\n      <th></th>\n      <th>mu</th>\n      <th>prob</th>\n    </tr>\n  </thead>\n  <tbody>\n    <tr>\n      <th>1999 prob underperforming 2000-2020</th>\n      <td>0.1176</td>\n      <td>0.0364151</td>\n    </tr>\n  </tbody>\n</table>\n</div>"
     },
     "metadata": {},
     "output_type": "display_data"
    }
   ],
   "source": [
    "# in the previous analysis, we're using the same period tilde_r_M when calculating the tilde mu\n",
    "# Now we are using returns of different time periods\n",
    "# using the old mu and sigma from 1965-1999, what will be the possibility that the 21-year market return will be\n",
    "# smaller than the return of 2000-2020?\n",
    "def prob_calc(mu, bar_r, sigma, years):\n",
    "    x = - np.sqrt(years) * (mu - bar_r)/sigma\n",
    "    val = scipy.stats.norm.cdf(x)\n",
    "    return val\n",
    "\n",
    "# still using the mu and sigma from 1965-1999\n",
    "table6 = pd.DataFrame(columns=['mu', 'prob'])\n",
    "table6.loc['1999 prob underperforming 2000-2020', 'mu'] =\\\n",
    "    subtable_log_1965_1999.loc['r_M', 'mean 1965-1999']\n",
    "sigma = subtable_log_1965_1999.loc['r_M', 'std 1965-1999']\n",
    "\n",
    "table6.loc['1999 prob underperforming 2000-2020', 'prob'] = \\\n",
    "    prob_calc(\n",
    "        subtable_log_1965_1999.loc['r_M', 'mean 1965-1999'],\n",
    "        subtable_log_2000_2020.loc['r_M', 'mean 2000-2020'],\n",
    "        sigma,21)\n",
    "display(table6)"
   ],
   "metadata": {
    "collapsed": false,
    "pycharm": {
     "name": "#%%\n"
    }
   }
  },
  {
   "cell_type": "markdown",
   "source": [
    "Suppose Barnstable had implemented the put-option strategy with the growing strike of\n",
    "6%?\n",
    "Based on the 2000-2020 performance, what is the probability that the 2000-2029\n",
    "cumulative market return will be low enough to make the puts in the money?\n",
    "\n",
    "\n"
   ],
   "metadata": {
    "collapsed": false,
    "pycharm": {
     "name": "#%% md\n"
    }
   }
  },
  {
   "cell_type": "code",
   "execution_count": 46,
   "outputs": [
    {
     "name": "stdout",
     "output_type": "stream",
     "text": [
      "Prob = 0.0976\n"
     ]
    }
   ],
   "source": [
    "# the growing strike is 0.06, thus for 30 years, the log of growth would be 30*0.06=1.8\n",
    "# TODO: Confusing here\n",
    "x = -np.sqrt(12) * (\n",
    "    (subtable_log_1965_1999.loc['r_M', 'mean 1965-1999'] - 0.06) +\n",
    "    21/12 * (subtable_log_2000_2020.loc['r_M', 'mean 2000-2020'] - 0.06)\n",
    "    ) / sigma\n",
    "p = scipy.stats.norm.cdf(x)\n",
    "print('Prob = {:.4f}'.format(p))"
   ],
   "metadata": {
    "collapsed": false,
    "pycharm": {
     "name": "#%%\n"
    }
   }
  },
  {
   "cell_type": "code",
   "execution_count": 47,
   "outputs": [
    {
     "data": {
      "text/plain": "     1999 prob underperforming 2000-2020\nmu                             0.0562795\nprob                            0.351835",
      "text/html": "<div>\n<style scoped>\n    .dataframe tbody tr th:only-of-type {\n        vertical-align: middle;\n    }\n\n    .dataframe tbody tr th {\n        vertical-align: top;\n    }\n\n    .dataframe thead th {\n        text-align: right;\n    }\n</style>\n<table border=\"1\" class=\"dataframe\">\n  <thead>\n    <tr style=\"text-align: right;\">\n      <th></th>\n      <th>1999 prob underperforming 2000-2020</th>\n    </tr>\n  </thead>\n  <tbody>\n    <tr>\n      <th>mu</th>\n      <td>0.0562795</td>\n    </tr>\n    <tr>\n      <th>prob</th>\n      <td>0.351835</td>\n    </tr>\n  </tbody>\n</table>\n</div>"
     },
     "metadata": {},
     "output_type": "display_data"
    }
   ],
   "source": [
    "# above we're comparing the market return against the risk free returns\n",
    "# now we're comparing the excessive returns in different periods\n",
    "\n",
    "table7 = pd.DataFrame(columns=['mu', 'prob'])\n",
    "table7.loc['1999 prob underperforming 2000-2020', 'mu'] = \\\n",
    "    subtable_log_1965_1999.loc['tilde_r_M', 'mean 1965-1999']\n",
    "\n",
    "# still using the sigma from 1965 to 1999\n",
    "sigma = subtable_log_1965_1999.loc['tilde_r_M', 'std 1965-1999']\n",
    "table7.loc['1999 prob underperforming 2000-2020', 'prob'] = \\\n",
    "    prob_calc(\n",
    "        subtable_log_1965_1999.loc['tilde_r_M', 'mean 1965-1999'],\n",
    "        subtable_log_2000_2020.loc['tilde_r_M', 'mean 2000-2020'],\n",
    "        sigma,21)\n",
    "# the possibility that the return of 1965 to 1999 will be lower than the actual returns in the future 21 years\n",
    "display(table7.T)"
   ],
   "metadata": {
    "collapsed": false,
    "pycharm": {
     "name": "#%%\n"
    }
   }
  },
  {
   "cell_type": "markdown",
   "source": [
    "## Modeling Volatility and VaR"
   ],
   "metadata": {
    "collapsed": false,
    "pycharm": {
     "name": "#%% md\n"
    }
   }
  },
  {
   "cell_type": "code",
   "execution_count": 48,
   "outputs": [
    {
     "data": {
      "text/plain": "             S&P 500   T-bills   tilde_r\ndate                                    \n1926-01-30 -0.001783  0.003061 -0.004844\n1926-02-27 -0.033296  0.002612 -0.035908\n1926-03-31 -0.057708  0.002601 -0.060309\n1926-04-30  0.038522  0.002270  0.036252\n1926-05-28  0.013623  0.002691  0.010932",
      "text/html": "<div>\n<style scoped>\n    .dataframe tbody tr th:only-of-type {\n        vertical-align: middle;\n    }\n\n    .dataframe tbody tr th {\n        vertical-align: top;\n    }\n\n    .dataframe thead th {\n        text-align: right;\n    }\n</style>\n<table border=\"1\" class=\"dataframe\">\n  <thead>\n    <tr style=\"text-align: right;\">\n      <th></th>\n      <th>S&amp;P 500</th>\n      <th>T-bills</th>\n      <th>tilde_r</th>\n    </tr>\n    <tr>\n      <th>date</th>\n      <th></th>\n      <th></th>\n      <th></th>\n    </tr>\n  </thead>\n  <tbody>\n    <tr>\n      <th>1926-01-30</th>\n      <td>-0.001783</td>\n      <td>0.003061</td>\n      <td>-0.004844</td>\n    </tr>\n    <tr>\n      <th>1926-02-27</th>\n      <td>-0.033296</td>\n      <td>0.002612</td>\n      <td>-0.035908</td>\n    </tr>\n    <tr>\n      <th>1926-03-31</th>\n      <td>-0.057708</td>\n      <td>0.002601</td>\n      <td>-0.060309</td>\n    </tr>\n    <tr>\n      <th>1926-04-30</th>\n      <td>0.038522</td>\n      <td>0.002270</td>\n      <td>0.036252</td>\n    </tr>\n    <tr>\n      <th>1926-05-28</th>\n      <td>0.013623</td>\n      <td>0.002691</td>\n      <td>0.010932</td>\n    </tr>\n  </tbody>\n</table>\n</div>"
     },
     "execution_count": 48,
     "metadata": {},
     "output_type": "execute_result"
    }
   ],
   "source": [
    "df.head()"
   ],
   "metadata": {
    "collapsed": false,
    "pycharm": {
     "name": "#%%\n"
    }
   }
  },
  {
   "cell_type": "code",
   "execution_count": 51,
   "outputs": [
    {
     "data": {
      "text/plain": "Text(0.5, 1.0, 'Historical VaR')"
     },
     "execution_count": 51,
     "metadata": {},
     "output_type": "execute_result"
    },
    {
     "data": {
      "text/plain": "<Figure size 432x288 with 1 Axes>",
      "image/png": "[encoded data removed]"
     },
     "metadata": {
      "needs_background": "light"
     },
     "output_type": "display_data"
    }
   ],
   "source": [
    "# Starting at t = 61, calculate the historic-based VaR.\n",
    "# based on the expanding sample from period 1 (Jan 1926) to t - 1.\n",
    "# By historic VaR, we mean simply taking the 5th quantile for the historic\n",
    "# sample up to time t - 1.\n",
    "\n",
    "var_hist = df['tilde_r'].shift(1).expanding(60).quantile(0.05).dropna()\n",
    "# here, we're expanding our window of size 60 from top to down\n",
    "# and take the 5% quantile, and continue to do so till the year t-1\n",
    "plt.plot(var_hist)\n",
    "plt.ylabel('VaR')\n",
    "plt.title(\"Historical VaR\")\n",
    "# this histogram is the 5% VaR over the whole time-frame"
   ],
   "metadata": {
    "collapsed": false,
    "pycharm": {
     "name": "#%%\n"
    }
   }
  },
  {
   "cell_type": "code",
   "execution_count": 58,
   "outputs": [
    {
     "name": "stdout",
     "output_type": "stream",
     "text": [
      "date\n",
      "1931-05-29   -0.120066\n",
      "1931-09-30   -0.126873\n",
      "1931-12-31   -0.133082\n",
      "1932-04-30   -0.138662\n",
      "1932-05-31   -0.144204\n",
      "1933-02-28   -0.154177\n",
      "1938-03-31   -0.139862\n",
      "1940-05-31   -0.139831\n",
      "1970-04-30   -0.084395\n",
      "1973-11-30   -0.083047\n",
      "1974-08-30   -0.083729\n",
      "1974-09-30   -0.084618\n",
      "1978-10-31   -0.083127\n",
      "1980-03-31   -0.083308\n",
      "1986-09-30   -0.081866\n",
      "1987-10-30   -0.081904\n",
      "1987-11-30   -0.082585\n",
      "1990-08-31   -0.081938\n",
      "1998-08-31   -0.077837\n",
      "2000-11-30   -0.077279\n",
      "2001-02-28   -0.078239\n",
      "2001-09-28   -0.079208\n",
      "2002-09-30   -0.080246\n",
      "2008-06-30   -0.076228\n",
      "2008-09-30   -0.077797\n",
      "2008-10-31   -0.078560\n",
      "2009-01-30   -0.080765\n",
      "2009-02-27   -0.081701\n",
      "2018-12-31   -0.075819\n",
      "2020-02-28   -0.076228\n",
      "2020-03-31   -0.077877\n",
      "Name: tilde_r, dtype: float64\n",
      "Frequency of r_tilde < r_tilde_var: 31\n"
     ]
    },
    {
     "data": {
      "text/plain": "2.88"
     },
     "execution_count": 58,
     "metadata": {},
     "output_type": "execute_result"
    }
   ],
   "source": [
    "# to calculate the frequency r_tilde will fall below this VaR\n",
    "# remember in the above we started from t = 61, so the hist graph will have fewer data points than df\n",
    "freq = np.size(var_hist[df.iloc[60:]['tilde_r']<var_hist])\n",
    "print(\"Frequency of r_tilde < r_tilde_var: %d\" %freq)\n",
    "np.round(freq*100/np.size(var_hist.index),2)"
   ],
   "metadata": {
    "collapsed": false,
    "pycharm": {
     "name": "#%%\n"
    }
   }
  },
  {
   "cell_type": "markdown",
   "source": [
    "#### The drawback of this hist VaR\n",
    "\n",
    "1. By definition of VaR, **number instances of return should be less than VaR (5%) should be close to 5%**, but in our case it is less than 3%,it's only 2.88%.\n",
    "2. This method of calculation **is valid if there is smooth tail**, and does not give correct result if tails are not smooth.\n"
   ],
   "metadata": {
    "collapsed": false,
    "pycharm": {
     "name": "#%% md\n"
    }
   }
  },
  {
   "cell_type": "markdown",
   "source": [
    "## Volatility\n",
    "### Expanding Series; IGARCH; Rolling Window\n"
   ],
   "metadata": {
    "collapsed": false,
    "pycharm": {
     "name": "#%% md\n"
    }
   }
  },
  {
   "cell_type": "code",
   "execution_count": 59,
   "outputs": [
    {
     "data": {
      "text/plain": "<matplotlib.legend.Legend at 0x1fae6580>"
     },
     "execution_count": 59,
     "metadata": {},
     "output_type": "execute_result"
    },
    {
     "data": {
      "text/plain": "<Figure size 432x288 with 1 Axes>",
      "image/png": "[encoded data removed]"
     },
     "metadata": {
      "needs_background": "light"
     },
     "output_type": "display_data"
    }
   ],
   "source": [
    "import itertools\n",
    "#part a\n",
    "def rms(x):\n",
    "    return (lambda x: ((x**2).sum()/len(x))**(0.5))\n",
    "\n",
    "#Expanding Series and Rolling Window\n",
    "sigma_expanding = df['tilde_r'].shift(1).dropna().expanding(60).apply(lambda x: ((x**2).sum()/len(x))**(0.5))\n",
    "sigma_roll = df['tilde_r'].shift(1).dropna().rolling(60).apply(lambda x: ((x**2).sum()/len(x))**(0.5))\n",
    "\n",
    "#IGARCH\n",
    "ig = df['tilde_r'].shift(1).dropna()\n",
    "ig.iloc[0] = 0.15\n",
    "sigma_ig = pd.Series(itertools.accumulate(ig, lambda a, b: (0.97 * a**2 + (1-0.97) * b**2)**0.5), index=sigma_expanding.index)\n",
    "\n",
    "#Plot those volatilities\n",
    "plt.plot(sigma_expanding,label='Expanding')\n",
    "plt.plot(sigma_roll,label='Rolling')\n",
    "plt.plot(sigma_ig,label='Igarch')\n",
    "plt.legend()"
   ],
   "metadata": {
    "collapsed": false,
    "pycharm": {
     "name": "#%%\n"
    }
   }
  },
  {
   "cell_type": "code",
   "execution_count": 60,
   "outputs": [
    {
     "data": {
      "text/plain": "<matplotlib.legend.Legend at 0x1c2838e0>"
     },
     "execution_count": 60,
     "metadata": {},
     "output_type": "execute_result"
    },
    {
     "data": {
      "text/plain": "<Figure size 432x288 with 1 Axes>",
      "image/png": "[encoded data removed]"
     },
     "metadata": {
      "needs_background": "light"
     },
     "output_type": "display_data"
    }
   ],
   "source": [
    "# Now to use those volatilities to draw the VaR\n",
    "# we simply put VaR here as -1.65*sigma\n",
    "\n",
    "#part b\n",
    "var_expanding = -1.65*sigma_expanding\n",
    "var_roll = -1.65*sigma_roll\n",
    "var_igarch = -1.65*sigma_ig\n",
    "\n",
    "plt.plot(var_expanding,label='Expanding')\n",
    "plt.plot(var_roll,label='Rolling')\n",
    "plt.plot(var_igarch,label='Igarch')\n",
    "plt.ylabel('VaR')\n",
    "plt.legend()"
   ],
   "metadata": {
    "collapsed": false,
    "pycharm": {
     "name": "#%%\n"
    }
   }
  },
  {
   "cell_type": "code",
   "execution_count": 62,
   "outputs": [
    {
     "name": "stdout",
     "output_type": "stream",
     "text": [
      "Frequency of tilde_r < var_expanding: 19\n",
      "Frequency of tilde_r < var_rolling: 51\n",
      "Frequency of tilde_r < var_igarch: 46\n"
     ]
    }
   ],
   "source": [
    "#part c\n",
    "freq = np.size(var_expanding[df.loc[var_expanding.index]['tilde_r']<var_expanding])\n",
    "print(\"Frequency of tilde_r < var_expanding: %d\" %freq)\n",
    "freq = np.size(var_roll[df.loc[var_roll.index]['tilde_r']<var_roll])\n",
    "print(\"Frequency of tilde_r < var_rolling: %d\" %freq)\n",
    "freq = np.size(var_igarch[df.loc[var_igarch.index]['tilde_r']<var_igarch])\n",
    "print(\"Frequency of tilde_r < var_igarch: %d\" %freq)"
   ],
   "metadata": {
    "collapsed": false,
    "pycharm": {
     "name": "#%%\n"
    }
   }
  },
  {
   "cell_type": "markdown",
   "source": [
    "#### part d\n",
    "Rolling and igarch is better method for calculating VaR as it is able to provide VaR close to 5% whereas expanding window and historical method estimate is way lower than 5% (looking at frequency) Additionally, rolling and igarch adjust to current volatility better than expanding and historical leading to volatility clustering which exist in real world.\n",
    "\n"
   ],
   "metadata": {
    "collapsed": false,
    "pycharm": {
     "name": "#%% md\n"
    }
   }
  }
 ],
 "metadata": {
  "kernelspec": {
   "display_name": "Python 3",
   "language": "python",
   "name": "python3"
  },
  "language_info": {
   "codemirror_mode": {
    "name": "ipython",
    "version": 2
   },
   "file_extension": ".py",
   "mimetype": "text/x-python",
   "name": "python",
   "nbconvert_exporter": "python",
   "pygments_lexer": "ipython2",
   "version": "2.7.6"
  }
 },
 "nbformat": 4,
 "nbformat_minor": 0
}
